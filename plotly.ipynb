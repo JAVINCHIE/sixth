{
 "cells": [
  {
   "cell_type": "code",
   "execution_count": 1,
   "id": "5dce9f9d-1270-459f-9caf-5d896d6d4098",
   "metadata": {
    "tags": []
   },
   "outputs": [
    {
     "data": {
      "text/html": [
       "\n",
       "        <iframe\n",
       "            width=\"100%\"\n",
       "            height=\"650\"\n",
       "            src=\"http://127.0.0.1:8050/\"\n",
       "            frameborder=\"0\"\n",
       "            allowfullscreen\n",
       "            \n",
       "        ></iframe>\n",
       "        "
      ],
      "text/plain": [
       "<IPython.lib.display.IFrame at 0x1eba60aab90>"
      ]
     },
     "metadata": {},
     "output_type": "display_data"
    }
   ],
   "source": [
    "import dash\n",
    "from dash import html, dcc\n",
    "import pandas as pd\n",
    "import plotly.express as px\n",
    "from dash.dependencies import Input, Output\n",
    "\n",
    "# Load data\n",
    "url = \"https://cf-courses-data.s3.us.cloud-object-storage.appdomain.cloud/IBM-DS0321EN-SkillsNetwork/datasets/spacex_launch_dash.csv\"\n",
    "df = pd.read_csv(url)\n",
    "\n",
    "# Initialize the Dash app\n",
    "app = dash.Dash(__name__)\n",
    "\n",
    "# Define the layout of the app\n",
    "app.layout = html.Div([\n",
    "    dcc.Dropdown(\n",
    "        id='launch-site-dropdown',\n",
    "        options=[{'label': site, 'value': site} for site in df['Launch Site'].unique()],\n",
    "        value='All Sites',\n",
    "        placeholder=\"Select a Launch Site\",\n",
    "        searchable=True\n",
    "    ),\n",
    "    html.Div(id='success-pie-chart-container')\n",
    "])\n",
    "\n",
    "# Run the app\n",
    "if __name__ == '__main__':\n",
    "    app.run_server(debug=True)\n",
    "@app.callback(\n",
    "    Output(component_id='success-pie-chart-container', component_property='children'),\n",
    "    Input(component_id='launch-site-dropdown', component_property='value')\n",
    ")\n",
    "def update_success_pie_chart(selected_site):\n",
    "    if selected_site == 'All Sites':\n",
    "        filtered_df = df\n",
    "    else:\n",
    "        filtered_df = df[df['Launch Site'] == selected_site]\n",
    "\n",
    "    fig = px.pie(filtered_df, names='class', title=f'Launch Success Rates for {selected_site}')\n",
    "    return dcc.Graph(figure=fig)\n",
    "# Extend the layout in the app.layout section\n",
    "app.layout = html.Div([\n",
    "    dcc.Dropdown(\n",
    "        id='launch-site-dropdown',\n",
    "        options=[{'label': site, 'value': site} for site in df['Launch Site'].unique()],\n",
    "        value='All Sites',\n",
    "        placeholder=\"Select a Launch Site\",\n",
    "        searchable=True\n",
    "    ),\n",
    "    dcc.RangeSlider(\n",
    "        id='payload-range-slider',\n",
    "        min=df['Payload Mass (kg)'].min(),\n",
    "        max=df['Payload Mass (kg)'].max(),\n",
    "        step=1000,\n",
    "        marks={i: str(i) for i in range(int(df['Payload Mass (kg)'].min()), int(df['Payload Mass (kg)'].max()), 1000)},\n",
    "        value=[df['Payload Mass (kg)'].min(), df['Payload Mass (kg)'].max()]\n",
    "    ),\n",
    "    html.Div(id='success-pie-chart-container'),\n",
    "    html.Div(id='success-payload-scatter-chart-container')\n",
    "])\n",
    "@app.callback(\n",
    "    Output('success-payload-scatter-chart-container', 'children'),\n",
    "    [Input('launch-site-dropdown', 'value'),\n",
    "     Input('payload-range-slider', 'value')]\n",
    ")\n",
    "def update_payload_scatter_chart(selected_site, payload_range):\n",
    "    filtered_df = df[(df['Payload Mass (kg)'] >= payload_range[0]) & (df['Payload Mass (kg)'] <= payload_range[1])]\n",
    "    if selected_site != 'All Sites':\n",
    "        filtered_df = filtered_df[filtered_df['Launch Site'] == selected_site]\n",
    "    \n",
    "    fig = px.scatter(filtered_df, x='Payload Mass (kg)', y='class', color='Booster Version Category',\n",
    "                     title='Success by Payload Mass and Booster Version')\n",
    "    return dcc.Graph(figure=fig)\n"
   ]
  },
  {
   "cell_type": "code",
   "execution_count": 3,
   "id": "d8dff0ac-71ff-400d-9be2-a98b4008dfaa",
   "metadata": {},
   "outputs": [],
   "source": []
  },
  {
   "cell_type": "code",
   "execution_count": 4,
   "id": "ad2fd8a3-8a97-4104-a18a-c254db7ea3b4",
   "metadata": {
    "tags": []
   },
   "outputs": [],
   "source": []
  },
  {
   "cell_type": "code",
   "execution_count": null,
   "id": "e4654c36-750a-476c-bb12-f1fd7d35a632",
   "metadata": {
    "tags": []
   },
   "outputs": [],
   "source": []
  },
  {
   "cell_type": "code",
   "execution_count": null,
   "id": "200fbaa0-3778-47f0-b69e-4350b2feb78c",
   "metadata": {},
   "outputs": [],
   "source": []
  }
 ],
 "metadata": {
  "kernelspec": {
   "display_name": "Python 3 (ipykernel)",
   "language": "python",
   "name": "python3"
  },
  "language_info": {
   "codemirror_mode": {
    "name": "ipython",
    "version": 3
   },
   "file_extension": ".py",
   "mimetype": "text/x-python",
   "name": "python",
   "nbconvert_exporter": "python",
   "pygments_lexer": "ipython3",
   "version": "3.11.3"
  }
 },
 "nbformat": 4,
 "nbformat_minor": 5
}
